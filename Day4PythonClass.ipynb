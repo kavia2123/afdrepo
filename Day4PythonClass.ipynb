{
  "nbformat": 4,
  "nbformat_minor": 0,
  "metadata": {
    "colab": {
      "provenance": [],
      "authorship_tag": "ABX9TyPrsTnYL/6KIE/vDEabaUYm",
      "include_colab_link": true
    },
    "kernelspec": {
      "name": "python3",
      "display_name": "Python 3"
    },
    "language_info": {
      "name": "python"
    }
  },
  "cells": [
    {
      "cell_type": "markdown",
      "metadata": {
        "id": "view-in-github",
        "colab_type": "text"
      },
      "source": [
        "<a href=\"https://colab.research.google.com/github/kavia2123/afdrepo/blob/main/Day4PythonClass.ipynb\" target=\"_parent\"><img src=\"https://colab.research.google.com/assets/colab-badge.svg\" alt=\"Open In Colab\"/></a>"
      ]
    },
    {
      "cell_type": "code",
      "execution_count": null,
      "metadata": {
        "id": "M72kit6mzneR"
      },
      "outputs": [],
      "source": [
        "#Encapsulation\n",
        "#Abstraction"
      ]
    },
    {
      "cell_type": "code",
      "source": [
        "#Encapsulation - its used to hide the values inside a class. Preventing unauthorised access.\n",
        "#public/Global variable - which can be accessed in all the classes\n",
        "#protected variable --same as public\n",
        "#private variable -- which can be accessed in the class that it is defined in.\n",
        "\n",
        "#Public : var\n",
        "\n",
        "#Protected : _var\n",
        "\n",
        "#private : __var"
      ],
      "metadata": {
        "id": "1P28TPUlz6q0"
      },
      "execution_count": null,
      "outputs": []
    },
    {
      "cell_type": "code",
      "source": [
        "class BankDetails():\n",
        "  def __init__(self):\n",
        "    self.name = input(\"Please enter your name: \")\n",
        "    self._id =input(\"Enter your id: \")\n",
        "    self.__password = input(\"Enter your password: \")  # double __ means cannot be used anywhere else accept this class , since its private\n",
        "\n",
        "  def count(self):\n",
        "    if len(self.name ) <= 2:\n",
        "      print('Enter Valid name')\n",
        "    else:\n",
        "      print('Valid name')\n",
        "\n",
        "class Details(BankDetails):\n",
        "  def __init__(self):\n",
        "    BankDetails.__init__(self)\n",
        "\n",
        "  def getDetails(self):\n",
        "    print(f\"Hey {self.name} id number: {self._id},  Welcome!!!\")\n",
        "\n",
        "\n",
        "# we can inheritate all the variable accept the private variable . as its defined to be used in only on class and thus it help wioth protection\n",
        "#of sensitive data.  *** this is called encapsulation.\n",
        "\n",
        "\n",
        "d= Details()\n",
        "d.getDetails()\n"
      ],
      "metadata": {
        "colab": {
          "base_uri": "https://localhost:8080/"
        },
        "id": "7mQN8jtmz6ts",
        "outputId": "c145a1e1-bbbd-4e27-9d46-311d245e0b45"
      },
      "execution_count": null,
      "outputs": [
        {
          "output_type": "stream",
          "name": "stdout",
          "text": [
            "Please enter your name: pop\n",
            "Enter your id: 87\n",
            "Enter your password: 76\n",
            "Hey pop id number: 87,  Welcome!!!\n"
          ]
        }
      ]
    },
    {
      "cell_type": "code",
      "source": [],
      "metadata": {
        "id": "T-0WOxqH7n_s"
      },
      "execution_count": null,
      "outputs": []
    },
    {
      "cell_type": "code",
      "source": [
        "#Abstraction -- it is not a part of python but we have to import this.\n",
        "# it is used to hide complex implementation details.\n",
        "\n",
        "\n",
        "# class Abstract_class():  acts as a blueprint for the further class which means here we dont define anything , this is a template\n",
        "#  # @abstract Method\n",
        "#   method 1   empty method will be defined here snce its a template\n",
        "      #pass\n",
        "#   method 2\n",
        "      #pass\n",
        "#   method 3\n",
        "      #pass\n",
        "\n",
        "# class A(Abstract_class):\n",
        "#   def method1 # have to write the functionality here by using the template .\n",
        "\n",
        "###  have to mandatorily use that 3 method here and can add more too but those 3 methods will be compulsary.\n"
      ],
      "metadata": {
        "id": "5KNZqHUuz6vy"
      },
      "execution_count": null,
      "outputs": []
    },
    {
      "cell_type": "code",
      "source": [
        "#import\n",
        "from abc import ABC,abstractmethod\n",
        "\n",
        "class Abstract_class(ABC): # we will always follow this as ABC is a function\n",
        "  @abstractmethod\n",
        "  def method1(self):\n",
        "    pass\n",
        "\n",
        "  @abstractmethod  # before creating the method mention we need to call this.\n",
        "  def method2(self):\n",
        "    pass\n",
        "\n",
        "  def method3(self): # this will become optional as we dint mention @absrtmthod\n",
        "    pass\n",
        "\n",
        "\n",
        "\n",
        "class Animal(Abstract_class):\n",
        "  def __init__(self):\n",
        "    self.name = input (\"Enter the name: \")\n",
        "    self.age = input (\"Enter your age: \")\n",
        "    self.gender = input (\"Enter the gender: \")\n",
        "\n",
        "  def method1(self):\n",
        "    print(f\"Name is {self.name}\")\n",
        "  def method2 (self):  # if we comment this then this will fail as this is a abract method.\n",
        "    print(f\"Age is {self.age}\")\n",
        "\n",
        "  def method3 (self):\n",
        "    print(f\"gender is {self.gender}\")\n",
        "a= Animal()\n",
        "a.method1()\n",
        "a.method2()\n",
        "a.method()"
      ],
      "metadata": {
        "colab": {
          "base_uri": "https://localhost:8080/"
        },
        "id": "ZWs6Pxsrz6zW",
        "outputId": "72185e02-5952-417f-e7e6-5f2fc706aae8"
      },
      "execution_count": null,
      "outputs": [
        {
          "output_type": "stream",
          "name": "stdout",
          "text": [
            "Enter the name: kavia\n",
            "Enter your age: 21\n",
            "Enter the gender: Female\n",
            "Name is kavia\n",
            "Age is 21\n",
            "gender is Female\n"
          ]
        }
      ]
    },
    {
      "cell_type": "code",
      "source": [
        "# Super() function\n",
        "\n",
        "class BankDetails():\n",
        "  def __init__(self):\n",
        "    self.name = input(\"Please enter your name: \")\n",
        "    self._id =input(\"Enter your id: \")\n",
        "    self.__password = input(\"Enter your password: \")\n",
        "\n",
        "class Details(BankDetails):\n",
        "  def __init__(self):\n",
        "    #BankDetails.__init__(self) instead of this we can use super function.\n",
        "    super().__init__() # this will also do the same thing, dont have to mentin self.\n",
        "\n",
        "  def getDetails(self):\n",
        "    print(f\"Hey {self.name} id number: {self._id},  Welcome!!!\")\n"
      ],
      "metadata": {
        "id": "IUilbmvMzxpy"
      },
      "execution_count": null,
      "outputs": []
    },
    {
      "cell_type": "code",
      "source": [
        "#create a class that takes user input, input of bookname and author and genre, store all 5 differnt books details\n",
        "#creats a new class print all the available books in library"
      ],
      "metadata": {
        "id": "F6xvud0TzxsT"
      },
      "execution_count": null,
      "outputs": []
    },
    {
      "cell_type": "code",
      "source": [],
      "metadata": {
        "id": "iq_NCXi4GaNH"
      },
      "execution_count": null,
      "outputs": []
    },
    {
      "cell_type": "code",
      "source": [
        "class library():\n",
        "  def __init__(self):\n",
        "    self.bookname= input(\"Enter the name of the book: \")\n",
        "    self.author = input(\"Enter the name of the author: \")\n",
        "    self.genre = input(\"Enter the name of the genre: \")\n",
        "    self.list = ['fake love','strangers','single','hatred','success']\n",
        "\n",
        "  def available(self):\n",
        "    if self.bookname in self.list:\n",
        "      print(\"This book is available\")\n",
        "    else:\n",
        "      print(\"This book is not available\")\n",
        "\n",
        "\n",
        "class printBookName(library):\n",
        "  def __init__(self):\n",
        "    library.__init__(self)\n",
        "\n",
        "  def bookdetails(self):\n",
        "    print(f\" {self.list} : These are list of available books.\")\n",
        "\n",
        "\n",
        "p = printBookName()\n",
        "p.available()\n",
        "p.bookdetails()\n",
        "\n",
        "\n",
        "\n",
        "\n"
      ],
      "metadata": {
        "colab": {
          "base_uri": "https://localhost:8080/"
        },
        "id": "R3XA20V9zxun",
        "outputId": "ff7148be-ec37-4bf2-d2eb-1b6328d3461d"
      },
      "execution_count": null,
      "outputs": [
        {
          "output_type": "stream",
          "name": "stdout",
          "text": [
            "Enter the name of the book: fake love\n",
            "Enter the name of the author: ss\n",
            "Enter the name of the genre: dd\n",
            "This book is available\n",
            " ['fake love', 'strangers', 'single', 'hatred', 'success'] : These are list of available books.\n"
          ]
        }
      ]
    },
    {
      "cell_type": "code",
      "source": [
        "# create a class take input from user and store it and then print all the books.\n",
        "\n",
        "class library():\n",
        "  def __init__(self):\n",
        "    self.dict1 = {'Bookname': [],'Author': [],'genre': []}\n",
        "    self.bookname= None\n",
        "    self.author = None\n",
        "    self.genre = None\n",
        "\n",
        "  def getdetails(self):\n",
        "   count= 'Enter the count of books ypu want to add: '\n",
        "   for i in range(count):\n",
        "    print(f\"Enter the details of the book {i+1}\")\n",
        "    self.bookname= input(\"Enter the name of the book: \")\n",
        "    self.author = input(f\"Enter author of {self.bookname}: \")\n",
        "    self.genre = input(f\"Enter the genre of {self.bookname}: \")\n",
        "    self.dict1['Bookname'].append(self.bookname)\n",
        "    self.dict1['Author'].append(self.author)\n",
        "    self.dict1['genre'].append(self.genre)\n",
        "\n",
        "\n",
        "class Book_details(library):\n",
        "   def __init__(self):\n",
        "    Book_details. __init__(self)\n",
        "\n",
        "   def printBooks(self):\n",
        "    print(f\"{self.dict1['Bookname']}\")\n"
      ],
      "metadata": {
        "id": "1g5gKlUezxyC"
      },
      "execution_count": null,
      "outputs": []
    },
    {
      "cell_type": "code",
      "source": [
        "# same code differnt code using dictionary\n",
        "\n",
        "class library():\n",
        "  def __init__(self):\n",
        "    self.dict1 = {}  #empty dictionary\n",
        "    self.bookname= None\n",
        "    self.author = None\n",
        "    self.genre = None\n",
        "\n",
        "  def getdetails(self):\n",
        "   count= int(input('Enter the count of books you want to add: '))\n",
        "   for i in range(count):\n",
        "    self.bookname= input(\"Enter the name of the book: \")\n",
        "    self.author = input(f\"Enter author of {self.bookname}: \")\n",
        "    self.genre = input(f\"Enter the genre of {self.bookname}: \")\n",
        "    self.dict1[f'Book{i+1}'] ={'Bookname': None,'Author': None, 'Genre':None}\n",
        "    self.dict1[f'Book{i+1}']['Bookname'] =  self.bookname\n",
        "    self.dict1[f'Book{i+1}']['Author'] =  self.author\n",
        "    self.dict1[f'Book{i+1}']['Genre'] =  self.genre\n",
        "\n",
        "\n",
        "class Book_details(library):\n",
        "   def __init__(self):\n",
        "    library. __init__(self)\n",
        "\n",
        "   def printBooks(self):\n",
        "    print(f\"{self.dict1}\")\n",
        "\n",
        "a=Book_details()\n",
        "a.getdetails()\n",
        "a.printBooks()"
      ],
      "metadata": {
        "colab": {
          "base_uri": "https://localhost:8080/"
        },
        "id": "tNWw3pfrzw_b",
        "outputId": "c9794820-707d-451d-c406-0a460bd9edb2"
      },
      "execution_count": null,
      "outputs": [
        {
          "output_type": "stream",
          "name": "stdout",
          "text": [
            "Enter the count of books you want to add: 2\n",
            "Enter the name of the book: huj\n",
            "Enter author of huj: h\n",
            "Enter the genre of huj: h\n",
            "Enter the name of the book: e\n",
            "Enter author of e: e\n",
            "Enter the genre of e: e\n",
            "{'Book1': {'Bookname': 'huj', 'Author': 'h', 'Genre': 'h'}, 'Book2': {'Bookname': 'e', 'Author': 'e', 'Genre': 'e'}}\n"
          ]
        }
      ]
    },
    {
      "cell_type": "code",
      "source": [
        "#Homework\n",
        "\n",
        "# Create a class which asks the user to either sign in or login\n",
        "# if sign in ask the user to username and the password and asign a random id, balance = 0\n",
        "# if login ask user bank id and password, if  correct then ask the transaction. if incorrect then print incorrect password\n",
        "# if transaction is a credit , debit also store all the transaction of the user\n",
        "# credit  --add to current balance, print new total\n",
        "# debit --- deduct the amount. print available balance"
      ],
      "metadata": {
        "id": "35KjEErLvyRd"
      },
      "execution_count": null,
      "outputs": []
    },
    {
      "cell_type": "code",
      "source": [
        "#Create a calculator --all the operation should be done here\n",
        "#ask for 2 numbers ask operations  modulas and so on"
      ],
      "metadata": {
        "id": "zmX73pqIvyUI"
      },
      "execution_count": null,
      "outputs": []
    },
    {
      "cell_type": "code",
      "source": [
        "class calculator():\n",
        "  def __init__(self):\n",
        "    self.firstNumber =int(input(\"Enter first number: \"))\n",
        "    self.secondNumber  =int(input(\"Enter second number: \"))\n",
        "\n",
        "  def calculate(self):\n",
        "    opr = input(\"Enter the operation: [+, -, *, /, % ] \")\n",
        "    if opr == '+':\n",
        "      print(f'{self.firstNumber}+{self.secondNumber}=',self.firstNumber + self.secondNumber )\n",
        "    elif opr == '-':\n",
        "      print(f'{self.firstNumber}-{self.secondNumber}=',self.firstNumber - self.secondNumber )\n",
        "    elif opr == '*':\n",
        "      print(f'{self.firstNumber}*{self.secondNumber}=',self.firstNumber * self.secondNumber )\n",
        "    elif opr == '/':\n",
        "      print(f'{self.firstNumber}/{self.secondNumber}=',self.firstNumber / self.secondNumber )\n",
        "    elif opr == '%':\n",
        "      print(f'{self.firstNumber}%{self.secondNumber}=',self.firstNumber % self.secondNumber )\n",
        "\n",
        "c=calculator()\n",
        "c.calculate()"
      ],
      "metadata": {
        "id": "HhhmeF1EvyW8",
        "colab": {
          "base_uri": "https://localhost:8080/"
        },
        "outputId": "0d075f86-5f96-43d2-dc1c-bc13f814957a"
      },
      "execution_count": 25,
      "outputs": [
        {
          "output_type": "stream",
          "name": "stdout",
          "text": [
            "Enter first number: 200\n",
            "Enter second number: 20\n",
            "Enter the operation: [+, -, *, /, % ] %\n",
            "200%20= 0\n"
          ]
        }
      ]
    },
    {
      "cell_type": "code",
      "source": [],
      "metadata": {
        "id": "5CdmAY68vyZR"
      },
      "execution_count": null,
      "outputs": []
    },
    {
      "cell_type": "code",
      "source": [],
      "metadata": {
        "id": "JX7mBjAqvycr"
      },
      "execution_count": null,
      "outputs": []
    },
    {
      "cell_type": "code",
      "source": [],
      "metadata": {
        "id": "Lq9EiGLhvy0W"
      },
      "execution_count": null,
      "outputs": []
    },
    {
      "cell_type": "code",
      "source": [],
      "metadata": {
        "id": "N7GiNL4Jvy3u"
      },
      "execution_count": null,
      "outputs": []
    }
  ]
}