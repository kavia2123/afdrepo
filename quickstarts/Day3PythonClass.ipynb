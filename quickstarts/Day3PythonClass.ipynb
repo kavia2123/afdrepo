{
  "cells": [
    {
      "cell_type": "code",
      "source": [
        "# there are 3 ways of defining a variable inside the class (manual,parameter or input statement)\n",
        "\n",
        "class Numbers():\n",
        "    def __init__(self):  #costructor method\n",
        "        self.num =int(input(\"Enter your a number: \")) # global variable which is used in all methods inside once class\n",
        "\n",
        "    def is_even(self): #method 1\n",
        "        if self.num%2 == 0:\n",
        "            print(\"even\")\n",
        "        else:\n",
        "            print('Odd')\n",
        "\n",
        "    def is_prime(self): #method\n",
        "        for i in range(2,self.num):\n",
        "            if self.num%i == 0:\n",
        "                print('Not prime')\n",
        "                break\n",
        "            else:\n",
        "                print('prime')\n",
        "\n",
        "n =Numbers()  #object reference, this is used to inialise the class\n",
        "# n.is_even()   #object1\n",
        "# n.is_prime() # object2\n",
        "# we dont have to inialise the constructor whenever we call the class authomatically oit will execute the constructor.\n",
        "\n"
      ],
      "metadata": {
        "id": "Z0SHb5W24wDe",
        "outputId": "a01071f3-7981-4120-b44c-81073d4d489d",
        "colab": {
          "base_uri": "https://localhost:8080/"
        }
      },
      "execution_count": 11,
      "outputs": [
        {
          "name": "stdout",
          "output_type": "stream",
          "text": [
            "Enter your a number: 2\n"
          ]
        }
      ]
    },
    {
      "cell_type": "code",
      "source": [
        "#without parameters\n",
        "\n",
        "# there are 3 ways of defining a variable inside the class (manual,parameter or input statement)\n",
        "\n",
        "class Numbers():\n",
        "    def __init__(self):  #costructor method\n",
        "        self.num = int(input(\"Enter first number: \"))\n",
        "        self.num2 = int(input(\"Enter second number: \"))\n",
        "\n",
        "    def is_even(self): #method 1\n",
        "        if self.num%2 == 0:\n",
        "            print(f\"{self.num} is even\" )\n",
        "        else:\n",
        "            print(f\"{self.num} is odd\")\n",
        "\n",
        "    def is_prime(self): #method\n",
        "        for i in range(2,self.num):\n",
        "            if self.num%i == 0:\n",
        "                print(f'{self.num}: Not prime')\n",
        "                break\n",
        "            else:\n",
        "                print(f'{self.num}: prime')\n",
        "\n",
        "    def square(self):\n",
        "      print(f'square of {self.num2} is {self.num2 ** 2}')\n",
        ""
      ],
      "metadata": {
        "id": "s6Vgcd5m4t3Y"
      },
      "execution_count": 27,
      "outputs": []
    },
    {
      "cell_type": "code",
      "source": [
        "for i in range(5):  # we can use the function  on loop as well , this to use the is_even function 5 times\n",
        "  n=Numbers()\n",
        "  n.is_even()"
      ],
      "metadata": {
        "id": "M1NNcrwS6Llr",
        "outputId": "c52f4888-a9ea-4d0f-cde1-6e1c9c1034ae",
        "colab": {
          "base_uri": "https://localhost:8080/"
        }
      },
      "execution_count": 32,
      "outputs": [
        {
          "output_type": "stream",
          "name": "stdout",
          "text": [
            "Enter first number: 2\n",
            "Enter second number: 3\n",
            "2 is even\n",
            "Enter first number: 3\n",
            "Enter second number: 6\n",
            "3 is odd\n",
            "Enter first number: 7\n",
            "Enter second number: 8\n",
            "7 is odd\n",
            "Enter first number: 234\n",
            "Enter second number: 87\n",
            "234 is even\n",
            "Enter first number: 6555\n",
            "Enter second number: 655\n",
            "6555 is odd\n"
          ]
        }
      ]
    },
    {
      "cell_type": "code",
      "source": [
        "#Inheritance\n",
        "#Polymorphism\n",
        "#Encapsulation\n",
        "#abstraction"
      ],
      "metadata": {
        "id": "UOXXZzoh6Lnn"
      },
      "execution_count": null,
      "outputs": []
    },
    {
      "cell_type": "markdown",
      "source": [],
      "metadata": {
        "id": "QAZ7RP9tbCHq"
      }
    },
    {
      "cell_type": "code",
      "source": [
        "#Inheritance\n",
        "#like how we inherit genetics from parents or properties\n",
        "#here we can transfer methods/properties of one class to another.\n",
        "\n",
        "#transfering all the methods from one class to another\n",
        "# class 1\n",
        "# method 1\n",
        "# method 2\n",
        "\n",
        "# class 2(class 1)\n",
        "# method 1\n",
        "# method 2\n",
        "# method 3\n",
        "\n",
        "#Types of inheritance\n",
        "# single level  --from class to another, class a to class b.\n",
        "# multiple  -- from multiple classes and getting to one class, a,b,c to x class\n",
        "# multilevel -- hierachy like inheritance, a to b from b to c and c to do and so on.\n",
        "#feature getting passed\n",
        "\n",
        "\n",
        "syntax:\n",
        "# class parent():\n",
        "#   def__init__(self):\n",
        "#     variable\n",
        "#   def method 1(self)\n",
        "\n",
        "# class child (parent): # call the class here\n",
        "#   parent.__init__(self):# inheritance of parent in child.( This step is mandory while calling any single function)\n",
        "\n"
      ],
      "metadata": {
        "id": "mgYPn6ZW6LqD"
      },
      "execution_count": null,
      "outputs": []
    },
    {
      "cell_type": "code",
      "source": [
        "#inheritnce hands on ----********************* single level ******************************************\n",
        "\n",
        "class parent():\n",
        "  def __init__(self):\n",
        "    self.name =input('Enter your name: ')\n",
        "    self.age =input('Enter your age: ')\n",
        "\n",
        "  def getdetails(self):\n",
        "    print(f'name: {self.name}, age:{self.age}')\n",
        "\n",
        "class child(parent):\n",
        "  def __init__(self):\n",
        "    parent.__init__(self)  # calling variables from parent\n",
        "    self.colour =input('Enter favourite colour: ')\n",
        "\n",
        "  def details(self):\n",
        "    print(f'name: {self.name}, age:{self.age}, colour: {self.colour}')\n",
        "\n",
        "c=child()\n",
        "\n",
        "c.details()\n",
        "c.getdetails()  # we can call the methods from parent class."
      ],
      "metadata": {
        "id": "F0Adq7F26Lsw",
        "outputId": "1e2bfa40-ba04-4263-8269-2451cb6f080d",
        "colab": {
          "base_uri": "https://localhost:8080/"
        }
      },
      "execution_count": 39,
      "outputs": [
        {
          "output_type": "stream",
          "name": "stdout",
          "text": [
            "Enter your name: kavia\n",
            "Enter your age: 21\n",
            "Enter favourite colour: red\n",
            "name: kavia, age:21, colour: red\n",
            "name: kavia, age:21\n"
          ]
        }
      ]
    },
    {
      "cell_type": "code",
      "source": [
        "c.colour  # here we check the output\n",
        "c.age\n",
        "c.name"
      ],
      "metadata": {
        "id": "B7D8wBbF6Lve",
        "outputId": "be4ebe6e-8fb7-40dd-f8d4-addc6daf143e",
        "colab": {
          "base_uri": "https://localhost:8080/",
          "height": 35
        }
      },
      "execution_count": 38,
      "outputs": [
        {
          "output_type": "execute_result",
          "data": {
            "text/plain": [
              "'kavia'"
            ],
            "application/vnd.google.colaboratory.intrinsic+json": {
              "type": "string"
            }
          },
          "metadata": {},
          "execution_count": 38
        }
      ]
    },
    {
      "cell_type": "code",
      "source": [
        "#Multiple inheritance\n",
        "\n",
        "class Numbers1():\n",
        "  def __init__(self):\n",
        "    self.num1= int(input(\"Enter first number\"))\n",
        "\n",
        "class Numbers2():\n",
        "  def __init__(self):\n",
        "    self.num2= int(input(\"Enter second number\"))\n",
        "\n",
        "\n",
        "class Average (Numbers1, Numbers2):\n",
        "  def __init__(self):\n",
        "    Numbers1.__init__(self)   # This step is mandatory\n",
        "    Numbers2.__init__(self)\n",
        "\n",
        "  def average(self):\n",
        "    avg =(self.num1 + self.num2) / 2\n",
        "    print(f'average of {self.num1} and {self.num2} is {avg}')\n",
        "\n",
        "\n",
        "\n",
        "a=Average()\n",
        "a.average()"
      ],
      "metadata": {
        "id": "tW8p5AXI6Ly4",
        "outputId": "17806cfa-3296-4399-ecfe-f2053d5016a4",
        "colab": {
          "base_uri": "https://localhost:8080/"
        }
      },
      "execution_count": 45,
      "outputs": [
        {
          "output_type": "stream",
          "name": "stdout",
          "text": [
            "Enter first number21\n",
            "Enter second number12\n",
            "average of 21 and 12 is 16.5\n"
          ]
        }
      ]
    },
    {
      "cell_type": "code",
      "source": [
        "# Multiple inheritance with paramters\n",
        "\n",
        "class Numbers1():\n",
        "  def __init__(self,x,y):\n",
        "    self.num1= x\n",
        "    self.num2= y\n",
        "\n",
        "class Numbers2():\n",
        "  def __init__(self,a,x):\n",
        "    self.num2= a\n",
        "    self.num1= x\n",
        "\n",
        "\n",
        "class Average (Numbers1, Numbers2):\n",
        "  def __init__(self,x,y,a):  # will mention all the variable names here and if something is common just mention it once.\n",
        "    Numbers1.__init__(self,x,y)  # This step is mandatory\n",
        "    Numbers2.__init__(self,a,x)\n",
        "\n",
        "  def average(self):\n",
        "    avg =(self.num1 + self.num2) / 2\n",
        "    print(f'average of {self.num1} and {self.num2} is {avg}')\n",
        "\n",
        "\n",
        "\n",
        "a=Average(2,4,6)\n",
        "a.average()"
      ],
      "metadata": {
        "id": "5Gzv22VCqXKT",
        "outputId": "ee4140d7-748f-4693-8719-4f4bc65aacfc",
        "colab": {
          "base_uri": "https://localhost:8080/"
        }
      },
      "execution_count": 50,
      "outputs": [
        {
          "output_type": "stream",
          "name": "stdout",
          "text": [
            "average of 2 and 6 is 4.0\n"
          ]
        }
      ]
    },
    {
      "cell_type": "code",
      "source": [
        "#Multi level inheritance\n",
        "\n",
        "class Number():\n",
        "  def __init__(self):\n",
        "    self.num= int(input('Enter a value: '))\n",
        "\n",
        "class Math1(Number):\n",
        "  def __init__(self):\n",
        "   Number.__init__(self)\n",
        "\n",
        "  def is_even(self):\n",
        "        if self.num%2 == 0:  # this is from Number class\n",
        "            print(f'{self.num} is even')\n",
        "        else:\n",
        "            print(f'{self.num} is Odd')\n",
        "\n",
        "\n",
        "class Maths2(Math1):\n",
        "\n",
        "  def __init__(self):\n",
        "    Math1.__init__(self)\n",
        "\n",
        "  def is_prime(self): #method\n",
        "      for i in range(2,self.num):\n",
        "          if self.num%i == 0:\n",
        "              print('Not prime')\n",
        "              return\n",
        "\n",
        "      print('prime')\n",
        "\n",
        "m=Maths2()\n",
        "m.is_prime()\n",
        "m.is_even()"
      ],
      "metadata": {
        "id": "kM1XUgYntnhE",
        "outputId": "cd0e2dbd-1839-48e7-a5b3-61a0fe5ff364",
        "colab": {
          "base_uri": "https://localhost:8080/"
        }
      },
      "execution_count": 59,
      "outputs": [
        {
          "output_type": "stream",
          "name": "stdout",
          "text": [
            "Enter a value: 21\n",
            "Not prime\n",
            "21 is Odd\n"
          ]
        }
      ]
    },
    {
      "cell_type": "code",
      "source": [
        "#Polymorphism -- its a method that has many forms like shown below where we can rewrite the method in the new class,\n",
        "#simply overwriting the new function\n",
        "# overwriting with new function.\n",
        "\n",
        "#example we have 2 classes:\n",
        "\n",
        "class abc():\n",
        "   def __init__(self):\n",
        "    self.name =input('Enter your name :')\n",
        "\n",
        "   def get_data(self):\n",
        "    print(f'{self.name}')\n",
        "\n",
        "\n",
        "class bca(abc):\n",
        "   def __init__(self):\n",
        "    self.colour=input('Enter your favourite colour: ')\n",
        "    abc.__init__(self)\n",
        "\n",
        "   def get_data(self):\n",
        "    print(f'his name is {self.name} and he is just obessessed with {self.colour}')\n",
        "\n",
        "\n",
        "a=bca()\n",
        "a.get_data()"
      ],
      "metadata": {
        "id": "l_ak73Nbtn26",
        "outputId": "17aeb564-6524-4e47-f474-35146701a2ea",
        "colab": {
          "base_uri": "https://localhost:8080/"
        }
      },
      "execution_count": 63,
      "outputs": [
        {
          "output_type": "stream",
          "name": "stdout",
          "text": [
            "Enter your favourite colour: Kitanu\n",
            "Enter your name :kitanu man\n",
            "his name is kitanu man and he is just obessessed with Kitanu\n"
          ]
        }
      ]
    },
    {
      "cell_type": "code",
      "source": [
        "# Create a class whick takes user input of name,bank_id,balance\n",
        "# create a new class which performs operations like credit/debit\n",
        "# create - add to current balance,print new total\n",
        "# debit- deduct the amount, print avaliable balance"
      ],
      "metadata": {
        "id": "NlN7vngDtn53"
      },
      "execution_count": null,
      "outputs": []
    },
    {
      "cell_type": "code",
      "source": [
        "class bank():\n",
        "  def __init__(self):\n",
        "    self.name = input(\"Enter your name : \")\n",
        "    self.bankId = input(f\" Hi {self.name}, Enter your Bank Id: \")\n",
        "    self.balance = int(input(f\"Hi {self.name} please Enter your balance: \"))\n",
        "\n",
        "class CreDeb(bank):\n",
        "    def __init__(self):\n",
        "      bank.__init__(self) # inheritance\n",
        "\n",
        "    def operation(self):\n",
        "      opr = input(\"Enter credit/debit\")\n",
        "      if opr == 'credit':\n",
        "        amount= int(input(\"Enter your amount to credit: \"))\n",
        "        self.balance+=amount\n",
        "        print(f'Credited succesfully, avalable balance is {self.balance}')\n",
        "      elif opr == 'debit':\n",
        "        amount =amount= int(input(\"Enter your amount to debit: \"))\n",
        "        if amount <=self.balance:\n",
        "          self.balance-=amount\n",
        "          print(f'debited succesfully, avalable balance is {self.balance}')\n",
        "        else:\n",
        "          print(f\"Debit unsuccessful, avaliable balance:{self.balance} is less than {amount}\")\n",
        "      else:\n",
        "        print('Invalid Operation')\n",
        "\n",
        "opr=CreDeb()\n",
        "opr.operation()"
      ],
      "metadata": {
        "id": "yh1mE7jmtn8n",
        "outputId": "5d16239a-8dfa-4154-e804-5ab8f43cf12b",
        "colab": {
          "base_uri": "https://localhost:8080/"
        }
      },
      "execution_count": 75,
      "outputs": [
        {
          "output_type": "stream",
          "name": "stdout",
          "text": [
            "Enter your name : kii\n",
            " Hi kii, Enter your Bank Id: 2ew\n",
            "Hi kii please Enter your balance: 2\n",
            "Enter credit/debitcredit\n",
            "Enter your amount to credit200\n",
            "Credited succesfully, avalable balance is 202\n"
          ]
        }
      ]
    },
    {
      "cell_type": "code",
      "source": [],
      "metadata": {
        "id": "Xokag5Fwtn_X"
      },
      "execution_count": null,
      "outputs": []
    }
  ],
  "metadata": {
    "colab": {
      "name": "Prompting.ipynb",
      "provenance": []
    },
    "google": {
      "image_path": "/static/site-assets/images/docs/logo-python.svg",
      "keywords": [
        "examples",
        "gemini",
        "beginner",
        "googleai",
        "quickstart",
        "python",
        "text",
        "chat",
        "vision",
        "embed"
      ]
    },
    "kernelspec": {
      "display_name": "Python 3",
      "name": "python3"
    }
  },
  "nbformat": 4,
  "nbformat_minor": 0
}